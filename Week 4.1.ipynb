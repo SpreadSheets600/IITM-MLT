{
 "cells": [
  {
   "cell_type": "markdown",
   "metadata": {
    "id": "53TcQvUOjGxr"
   },
   "source": [
    "# Week-4: Part-1\n"
   ]
  },
  {
   "cell_type": "code",
   "execution_count": 3,
   "metadata": {
    "id": "FasmVZvHPgMW"
   },
   "outputs": [],
   "source": [
    "import numpy as np\n",
    "import matplotlib.pyplot as plt\n",
    "\n",
    "# Set size of figure\n",
    "plt.rcParams['figure.figsize'] = [8, 8]\n",
    "\n",
    "# Set size of font\n",
    "plt.rcParams['font.size'] = 10"
   ]
  },
  {
   "cell_type": "markdown",
   "metadata": {
    "id": "7A9Gri4ZP1oK"
   },
   "source": [
    "## Sampling\n",
    "\n",
    "Sampling from a distribution is an important skill. While learning ML, it is often a good idea to work with toy-datasets. These toy-datasets can be generated from well known distributions such as the Bernoulli and Gaussian. The next section will introduce the idea of sampling in NumPy."
   ]
  },
  {
   "cell_type": "markdown",
   "metadata": {
    "id": "-Pu7bCK2QsXZ"
   },
   "source": [
    "### Random number generator\n",
    "\n",
    "We can sample from distributions using a random number generator:"
   ]
  },
  {
   "cell_type": "code",
   "execution_count": 4,
   "metadata": {
    "id": "srJG5sWKQNj8"
   },
   "outputs": [],
   "source": [
    "rng = np.random.default_rng()"
   ]
  },
  {
   "cell_type": "markdown",
   "metadata": {
    "id": "zupDoZTNQ6i0"
   },
   "source": [
    "We will start by generating a dataset of ones and zeros. The following code generates a sample of size $10$."
   ]
  },
  {
   "cell_type": "code",
   "execution_count": 5,
   "metadata": {
    "colab": {
     "base_uri": "https://localhost:8080/"
    },
    "executionInfo": {
     "elapsed": 36,
     "status": "ok",
     "timestamp": 1664700569410,
     "user": {
      "displayName": "Karthik POD",
      "userId": "18250337670386755696"
     },
     "user_tz": -330
    },
    "id": "aQqjseA3RYkB",
    "outputId": "2fdac6e2-b8f7-44fa-f39d-cefb97b9ec0e"
   },
   "outputs": [
    {
     "data": {
      "text/plain": [
       "array([1, 1, 1, 0, 1, 0, 1, 1, 0, 0])"
      ]
     },
     "execution_count": 5,
     "metadata": {},
     "output_type": "execute_result"
    }
   ],
   "source": [
    "rng = np.random.default_rng(seed = 1001)\n",
    "X = rng.integers(0, 2, size = 10)\n",
    "X"
   ]
  },
  {
   "cell_type": "markdown",
   "metadata": {
    "id": "1SMcmJIeRxNq"
   },
   "source": [
    "Notice that we have used a seed value as an argument to the random number generator. This is meant to ensure reproducability. That is, no matter how many times this cell is run, we will get the same sequence of random numbers. First run the cell a few times to verify that this is true. Now, run the cell with a different seed value and see what happens."
   ]
  },
  {
   "cell_type": "markdown",
   "metadata": {
    "id": "3hZYSGhISplV"
   },
   "source": [
    "## Problem-1\n",
    "\n",
    "For the dataset `X` given below, what is the maximum likelihood estimate of the mean if we use a Bernoulli distribution with parameter $p$ to model this data? Perform all your operations in the cell given below. Do not change the seed value. Enter your answer correct to three decimal places."
   ]
  },
  {
   "cell_type": "code",
   "execution_count": null,
   "metadata": {
    "colab": {
     "base_uri": "https://localhost:8080/"
    },
    "executionInfo": {
     "elapsed": 28,
     "status": "ok",
     "timestamp": 1664700569411,
     "user": {
      "displayName": "Karthik POD",
      "userId": "18250337670386755696"
     },
     "user_tz": -330
    },
    "id": "9G8arNCoSiGs",
    "outputId": "419cb6ef-2e98-45aa-ea96-59f92b0258fa"
   },
   "outputs": [
    {
     "name": "stdout",
     "output_type": "stream",
     "text": [
      "0.506\n"
     ]
    }
   ],
   "source": [
    "### Data ###\n",
    "rng = np.random.default_rng(seed = 1001)\n",
    "X = rng.integers(0, 2, size = 1000)\n",
    "\n",
    "### Solution ###\n",
    "print(X.mean())"
   ]
  },
  {
   "cell_type": "markdown",
   "metadata": {
    "id": "x3Xy5GoJTA4E"
   },
   "source": [
    "What happens if we increase the size of the dataset to $10000$? We see that `np.integers` is only giving us observations from a uniform distribution. In other words, the coin is unbiased. How do we generate samples from a biased coin or a Bernoulli distribution with $p \\neq 0.5$? We use a method called `choice`. This method \"chooses\" numbers from a list or an array based on the probabilities given to it in the array `p`."
   ]
  },
  {
   "cell_type": "code",
   "execution_count": 7,
   "metadata": {
    "colab": {
     "base_uri": "https://localhost:8080/"
    },
    "executionInfo": {
     "elapsed": 23,
     "status": "ok",
     "timestamp": 1664700569412,
     "user": {
      "displayName": "Karthik POD",
      "userId": "18250337670386755696"
     },
     "user_tz": -330
    },
    "id": "8y-D9idxTb_H",
    "outputId": "968a4afd-cd3c-4e7f-f15d-34c7c785ae5f"
   },
   "outputs": [
    {
     "data": {
      "text/plain": [
       "array([1, 0, 0, 1, 0, 1, 1, 0, 0, 0])"
      ]
     },
     "execution_count": 7,
     "metadata": {},
     "output_type": "execute_result"
    }
   ],
   "source": [
    "rng = np.random.default_rng(seed = 1001)\n",
    "X = rng.choice([0, 1], size = 10, p = [0.2, 0.8])\n",
    "X"
   ]
  },
  {
   "cell_type": "markdown",
   "metadata": {
    "id": "bem3q_teT25M"
   },
   "source": [
    "Note that the array `p` specifies the probabilities of $0$ and $1$."
   ]
  },
  {
   "cell_type": "markdown",
   "metadata": {
    "id": "hlCA6LGoT_II"
   },
   "source": [
    "## Problem-2\n",
    "\n",
    "Sample $1000$ points froma  Bernoulli distribution whose parameter is $p = 0.7$. Compute the maximum likelihood estimate of this sample. Perform all your operations in the cell given below. Enter your answer correct to three decimal places.\n",
    "\n",
    "**Note**\n",
    "\n",
    "(1) The parameter $p$ of a Bernoulli distribution always points to $P(x = 1)$.\n",
    "\n",
    "(2) It may seem pointless to compute the MLE when the parameter is already known to us. But this is a good exercise to verify our understanding of concepts with such toy-datasets."
   ]
  },
  {
   "cell_type": "code",
   "execution_count": null,
   "metadata": {
    "colab": {
     "base_uri": "https://localhost:8080/"
    },
    "executionInfo": {
     "elapsed": 21,
     "status": "ok",
     "timestamp": 1664700569413,
     "user": {
      "displayName": "Karthik POD",
      "userId": "18250337670386755696"
     },
     "user_tz": -330
    },
    "id": "w_-xhU84UPZZ",
    "outputId": "b99e61a4-b944-44a5-ba24-e1671a5eed40"
   },
   "outputs": [
    {
     "data": {
      "text/plain": [
       "np.float64(0.707)"
      ]
     },
     "execution_count": 8,
     "metadata": {},
     "output_type": "execute_result"
    }
   ],
   "source": [
    "### RNG ###\n",
    "rng = np.random.default_rng(seed = 1001)\n",
    "\n",
    "### Solution ###\n",
    "X = rng.choice([0, 1], size = 1000, p = [0.3, 0.7])\n",
    "X.mean()"
   ]
  },
  {
   "cell_type": "markdown",
   "metadata": {
    "id": "GBiZn4OIU0JX"
   },
   "source": [
    "## Problem-3\n",
    "\n",
    "Plot a bar graph of the above sample. You can use the `plt.bar` method. To know more about a method in Google Colab type `plt.bar?` in a cell and run it."
   ]
  },
  {
   "cell_type": "code",
   "execution_count": 9,
   "metadata": {
    "colab": {
     "base_uri": "https://localhost:8080/",
     "height": 500
    },
    "executionInfo": {
     "elapsed": 20,
     "status": "ok",
     "timestamp": 1664700569415,
     "user": {
      "displayName": "Karthik POD",
      "userId": "18250337670386755696"
     },
     "user_tz": -330
    },
    "id": "PJh5VT-4U5YT",
    "outputId": "8f41b1e0-be0c-4ae6-dfba-2e8faa1b5f0f"
   },
   "outputs": [
    {
     "data": {
      "text/plain": [
       "<BarContainer object of 2 artists>"
      ]
     },
     "execution_count": 9,
     "metadata": {},
     "output_type": "execute_result"
    },
    {
     "data": {
      "image/png": "[encoded data removed]",
      "text/plain": [
       "<Figure size 800x800 with 1 Axes>"
      ]
     },
     "metadata": {},
     "output_type": "display_data"
    }
   ],
   "source": [
    "### Solution ###\n",
    "plt.bar([0, 1], [(X == 0).shape[0], (X == 1).shape[0]])"
   ]
  },
  {
   "cell_type": "markdown",
   "metadata": {
    "id": "CaKqeVUX7R89"
   },
   "source": [
    "## Problem-4\n",
    "\n",
    "What is the impact of the size of the dataset on the MLE? Generate datasets of the following sizes:\n",
    "\n",
    "(1) $n = 10$\n",
    "\n",
    "(2) $n = 100$\n",
    "\n",
    "(3) $n = 1000$\n",
    "\n",
    "(4) $n = 10000$\n",
    "\n",
    "(5) $n = 100000$\n",
    "\n",
    "(6) $n = 1000000$\n",
    "\n",
    "Sample each dataset from a Bernoulli distribution with parameter $p = 0.2$. For each dataset, first compute the MLE and then compute the difference (abs value) between the MLE and the true parameter. That is, compute the value $d$ for different values of $n$\n",
    "\n",
    "$$\n",
    "d(n) = |\\hat{p}_{ML} - p|\n",
    "$$\n",
    "\n",
    "Plot $d(n)$ with respect to $n$. What do you observe?"
   ]
  },
  {
   "cell_type": "code",
   "execution_count": null,
   "metadata": {
    "colab": {
     "base_uri": "https://localhost:8080/",
     "height": 501
    },
    "executionInfo": {
     "elapsed": 648,
     "status": "ok",
     "timestamp": 1664700967451,
     "user": {
      "displayName": "Karthik POD",
      "userId": "18250337670386755696"
     },
     "user_tz": -330
    },
    "id": "VpO_HqFJ3_eq",
    "outputId": "0b384c26-e400-484f-b532-bad23f04783b"
   },
   "outputs": [
    {
     "data": {
      "image/png": "[encoded data removed]",
      "text/plain": [
       "<Figure size 800x800 with 1 Axes>"
      ]
     },
     "metadata": {},
     "output_type": "display_data"
    }
   ],
   "source": [
    "### Solution ###\n",
    "rng = np.random.default_rng(seed = 2001)\n",
    "p = 0.2\n",
    "\n",
    "trials = [10 * i for i in range(1, 7)]\n",
    "x_axis, y_axis = [ ], [ ]\n",
    "\n",
    "for n in trials:\n",
    "    X = rng.choice([0, 1], size = n, p = [0.8, 0.2])\n",
    "    p_ml = X.mean()\n",
    "    \n",
    "    y_axis.append(abs(p_ml - p))\n",
    "    x_axis.append(n)\n",
    "\n",
    "plt.plot(x_axis, y_axis)\n",
    "plt.ylabel('d(n)')\n",
    "plt.xlabel('n');"
   ]
  },
  {
   "cell_type": "markdown",
   "metadata": {
    "id": "VxIVvqeM5UE6"
   },
   "source": [
    "We have to be careful here. Though the estimate $p_{\\tiny ML}$ should become more accurate as $n$ increases, we might be lucky one some occasions. For example, if $n = 10$ and we get two ones and eight zeros, then the estimate is exactly equal to the true parameter. So, we can't expect the curve to be strictly decreasing! Try it out with different seed values to observe the changes."
   ]
  },
  {
   "cell_type": "markdown",
   "metadata": {
    "id": "_pcJqb0kWEvu"
   },
   "source": [
    "## Problem-5\n",
    "\n",
    "Sample $1000$ points from a six sided, biased die with faces: $1, 2, 3, 4, 5, 6$. The parameters corresponding to the six faces are:\n",
    "\n",
    "$$\n",
    "[0.1, 0.2, 0.3, 0.3, 0.05, 0.05]\n",
    "$$\n",
    "\n",
    "Note that this is a categorical distribution. Refer to the practice assignment for a similar problem. Find the maximum likelihood estimate of the parameter $p_3$. Perform all your operations in the cell given below. Enter your answer correct to three decimal places."
   ]
  },
  {
   "cell_type": "code",
   "execution_count": 11,
   "metadata": {
    "colab": {
     "base_uri": "https://localhost:8080/"
    },
    "executionInfo": {
     "elapsed": 25,
     "status": "ok",
     "timestamp": 1664700571448,
     "user": {
      "displayName": "Karthik POD",
      "userId": "18250337670386755696"
     },
     "user_tz": -330
    },
    "id": "zDQQnX4_Xujg",
    "outputId": "cd741693-d3d2-4a44-fb7c-da91926c5ae7"
   },
   "outputs": [
    {
     "data": {
      "text/plain": [
       "np.float64(0.319)"
      ]
     },
     "execution_count": 11,
     "metadata": {},
     "output_type": "execute_result"
    }
   ],
   "source": [
    "### RNG ###\n",
    "rng = np.random.default_rng(seed = 1001)\n",
    "\n",
    "### Solution ###\n",
    "X = rng.choice([1, 2, 3, 4, 5, 6], size = 1000, \n",
    "               p = [0.1, 0.2, 0.3, 0.3, 0.05, 0.05])\n",
    "\n",
    "sum(X == 3) / X.shape[0]"
   ]
  },
  {
   "cell_type": "markdown",
   "metadata": {
    "id": "MowGk5GjYJT_"
   },
   "source": [
    "## Problem-6\n",
    "\n",
    "Plot the bar graph for the above sample."
   ]
  },
  {
   "cell_type": "code",
   "execution_count": 12,
   "metadata": {
    "colab": {
     "base_uri": "https://localhost:8080/",
     "height": 500
    },
    "executionInfo": {
     "elapsed": 22,
     "status": "ok",
     "timestamp": 1664700571448,
     "user": {
      "displayName": "Karthik POD",
      "userId": "18250337670386755696"
     },
     "user_tz": -330
    },
    "id": "d6uwHy88Yw7N",
    "outputId": "1e8bbef3-ba48-4a1d-b9bc-b42e6f2468e2"
   },
   "outputs": [
    {
     "data": {
      "text/plain": [
       "<BarContainer object of 6 artists>"
      ]
     },
     "execution_count": 12,
     "metadata": {},
     "output_type": "execute_result"
    },
    {
     "data": {
      "image/png": "[encoded data removed]",
      "text/plain": [
       "<Figure size 800x800 with 1 Axes>"
      ]
     },
     "metadata": {},
     "output_type": "display_data"
    }
   ],
   "source": [
    "## Solution ##\n",
    "plt.bar(range(1, 7), [sum(X == f) for f in range(1, 7)])"
   ]
  },
  {
   "cell_type": "markdown",
   "metadata": {
    "id": "YOPtgJ_4gSaY"
   },
   "source": [
    "We now move to the Gaussian distribution. First, we shall get used to computing the density of a Gaussian given its mean and variance."
   ]
  },
  {
   "cell_type": "markdown",
   "metadata": {
    "id": "GatC9VZtgckX"
   },
   "source": [
    "## Problem-7\n",
    "\n",
    "Consider the following Gaussian distribution:\n",
    "\n",
    "$$\n",
    "\\mathcal{N}(3, 1.5^2)\n",
    "$$\n",
    "\n",
    "Compute the density of the point $5$ with respect to this distribution. Enter your answer correct to three decimal places."
   ]
  },
  {
   "cell_type": "code",
   "execution_count": 13,
   "metadata": {
    "colab": {
     "base_uri": "https://localhost:8080/"
    },
    "executionInfo": {
     "elapsed": 17,
     "status": "ok",
     "timestamp": 1664700571449,
     "user": {
      "displayName": "Karthik POD",
      "userId": "18250337670386755696"
     },
     "user_tz": -330
    },
    "id": "ydI-KzQQgtsb",
    "outputId": "3c1150a4-6503-4b5f-ed26-37a0995cd971"
   },
   "outputs": [
    {
     "data": {
      "text/plain": [
       "np.float64(0.10934004978399575)"
      ]
     },
     "execution_count": 13,
     "metadata": {},
     "output_type": "execute_result"
    }
   ],
   "source": [
    "## Solution ##\n",
    "def gaussian(x, mu, sigma):\n",
    "    den = np.sqrt(2 * np.pi) * sigma\n",
    "    num = np.exp(-(x - mu) ** 2 / (2 * sigma ** 2))\n",
    "    return num / den\n",
    "\n",
    "gaussian(5, 3, 1.5)"
   ]
  },
  {
   "cell_type": "markdown",
   "metadata": {
    "id": "8-FRiUbGg_IO"
   },
   "source": [
    "Now, we shall move to sampling from a Gaussian distribution."
   ]
  },
  {
   "cell_type": "markdown",
   "metadata": {
    "id": "ccDt9scAhLVG"
   },
   "source": [
    "## Problem-8\n",
    "\n",
    "Generate a sample of $1000$ points from a Gaussian distribution with mean $3$ and standard deviation $1.5$. Find the maximum likelihood estimate of the mean using this sample. Enter your answer correct to three decimal places. Use the cell given below for all your computations. You can search for the method to use from the NumPy docs. It is quite similar to what we did for the case of the Bernoulli and categorical distributions."
   ]
  },
  {
   "cell_type": "code",
   "execution_count": 14,
   "metadata": {
    "colab": {
     "base_uri": "https://localhost:8080/"
    },
    "executionInfo": {
     "elapsed": 15,
     "status": "ok",
     "timestamp": 1664700571449,
     "user": {
      "displayName": "Karthik POD",
      "userId": "18250337670386755696"
     },
     "user_tz": -330
    },
    "id": "XrufSsuYhacc",
    "outputId": "98dd457c-b8cf-4716-a6dc-b85acc265726"
   },
   "outputs": [
    {
     "data": {
      "text/plain": [
       "np.float64(2.9444187484087863)"
      ]
     },
     "execution_count": 14,
     "metadata": {},
     "output_type": "execute_result"
    }
   ],
   "source": [
    "### RNG ###\n",
    "rng = np.random.default_rng(seed = 1001)\n",
    "\n",
    "### Solution ###\n",
    "X = rng.normal(3, 1.5, 1000)\n",
    "X.mean()"
   ]
  },
  {
   "cell_type": "markdown",
   "metadata": {
    "id": "tnFOXcFLhkiD"
   },
   "source": [
    "## Problem-9\n",
    "\n",
    "Plot a histogram of the dataset given above. Use the `plt.hist` method."
   ]
  },
  {
   "cell_type": "code",
   "execution_count": 15,
   "metadata": {
    "colab": {
     "base_uri": "https://localhost:8080/",
     "height": 483
    },
    "executionInfo": {
     "elapsed": 14,
     "status": "ok",
     "timestamp": 1664700571450,
     "user": {
      "displayName": "Karthik POD",
      "userId": "18250337670386755696"
     },
     "user_tz": -330
    },
    "id": "MacX7cbhhoeh",
    "outputId": "7110967e-ab18-4a15-b3e4-46b93d02142d"
   },
   "outputs": [
    {
     "data": {
      "image/png": "[encoded data removed]",
      "text/plain": [
       "<Figure size 800x800 with 1 Axes>"
      ]
     },
     "metadata": {},
     "output_type": "display_data"
    }
   ],
   "source": [
    "plt.hist(X, bins = 10, ec = 'black');"
   ]
  },
  {
   "cell_type": "markdown",
   "metadata": {
    "id": "vGWU-0B0P7xR"
   },
   "source": [
    "We will now turn to understanding the shapes of the Beta distribution for different values of parameters $\\alpha$ and $\\beta$."
   ]
  },
  {
   "cell_type": "markdown",
   "metadata": {
    "id": "2YGpPqHpQTjr"
   },
   "source": [
    "## Problem-10\n",
    "\n",
    "Plot the beta distribution for the following values:\n",
    "\n",
    "- $\\alpha = 5, \\beta = 5$\n",
    "- $\\alpha = 5, \\beta = 1.5$\n",
    "- $\\alpha = 1.5, \\beta = 5$\n",
    "- $\\alpha = 0.5, \\beta = 0.5$\n",
    "\n",
    "\n",
    "Do not worry about the normalization constant."
   ]
  },
  {
   "cell_type": "code",
   "execution_count": null,
   "metadata": {
    "colab": {
     "base_uri": "https://localhost:8080/",
     "height": 555
    },
    "executionInfo": {
     "elapsed": 13,
     "status": "ok",
     "timestamp": 1664700571450,
     "user": {
      "displayName": "Karthik POD",
      "userId": "18250337670386755696"
     },
     "user_tz": -330
    },
    "id": "2br4TZm4QRQF",
    "outputId": "6d059f20-8765-449e-d926-7fb7d2642c32"
   },
   "outputs": [
    {
     "name": "stderr",
     "output_type": "stream",
     "text": [
      "/usr/local/lib/python3.7/dist-packages/ipykernel_launcher.py:27: RuntimeWarning: divide by zero encountered in power\n"
     ]
    },
    {
     "data": {
      "text/plain": [
       "([], <a list of 0 Text major ticklabel objects>)"
      ]
     },
     "execution_count": 15,
     "metadata": {},
     "output_type": "execute_result"
    },
    {
     "data": {
      "image/png": "[encoded data removed]",
      "text/plain": [
       "<Figure size 576x576 with 4 Axes>"
      ]
     },
     "metadata": {
      "needs_background": "light"
     },
     "output_type": "display_data"
    }
   ],
   "source": [
    "## Solution ##\n",
    "x = np.linspace(0, 1, 100)\n",
    "# alpha = 5, beta = 5\n",
    "plt.subplot(2, 2, 1)\n",
    "alpha, beta = 5, 5\n",
    "bd = (x ** (alpha - 1)) * (1 - x) ** (beta - 1)\n",
    "plt.plot(x, bd)\n",
    "plt.title(r'$\\alpha = 5, \\beta = 5$')\n",
    "plt.yticks([ ])\n",
    "# alpha = 5, beta = 1.5\n",
    "plt.subplot(2, 2, 2)\n",
    "alpha, beta = 5, 1.5\n",
    "bd = (x ** (alpha - 1)) * (1 - x) ** (beta - 1)\n",
    "plt.plot(x, bd)\n",
    "plt.title(r'$\\alpha = 5, \\beta = 1.5$')\n",
    "plt.yticks([ ])\n",
    "# alpha = 1.5, beta = 5\n",
    "plt.subplot(2, 2, 3)\n",
    "alpha, beta = 1.5, 5\n",
    "bd = (x ** (alpha - 1)) * (1 - x) ** (beta - 1)\n",
    "plt.plot(x, bd)\n",
    "plt.title(r'$\\alpha = 1.5, \\beta = 5$')\n",
    "plt.yticks([ ])\n",
    "# alpha = 0.5, beta = 0.5\n",
    "plt.subplot(2, 2, 4)\n",
    "alpha, beta = 0.5, 0.5\n",
    "bd = (x ** (alpha - 1)) * (1 - x) ** (beta - 1)\n",
    "plt.plot(x, bd)\n",
    "plt.title(r'$\\alpha = 0.5, \\beta = 0.5$')\n",
    "plt.yticks([ ])"
   ]
  }
 ],
 "metadata": {
  "colab": {
   "authorship_tag": "ABX9TyNbYQs5jI3uDqDGn2MCam2X",
   "collapsed_sections": [],
   "provenance": []
  },
  "kernelspec": {
   "display_name": ".venv",
   "language": "python",
   "name": "python3"
  },
  "language_info": {
   "codemirror_mode": {
    "name": "ipython",
    "version": 3
   },
   "file_extension": ".py",
   "mimetype": "text/x-python",
   "name": "python",
   "nbconvert_exporter": "python",
   "pygments_lexer": "ipython3",
   "version": "3.12.3"
  }
 },
 "nbformat": 4,
 "nbformat_minor": 0
}
